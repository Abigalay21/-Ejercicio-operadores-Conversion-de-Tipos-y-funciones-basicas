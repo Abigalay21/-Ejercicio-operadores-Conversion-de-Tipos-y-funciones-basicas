{
 "cells": [
  {
   "cell_type": "markdown",
   "id": "fa907e6c-5183-4811-a1c9-c09db1813944",
   "metadata": {},
   "source": [
    "# Calculadora con otras funciones"
   ]
  },
  {
   "cell_type": "code",
   "execution_count": 2,
   "id": "3071e00a-e6ab-4a27-b0f7-983acf759829",
   "metadata": {},
   "outputs": [
    {
     "name": "stdout",
     "output_type": "stream",
     "text": [
      "Elige una opcion\n"
     ]
    },
    {
     "name": "stdin",
     "output_type": "stream",
     "text": [
      "Completa la informacion que se indica en la web presiona (1/2/3) para completar :  1\n"
     ]
    },
    {
     "name": "stdout",
     "output_type": "stream",
     "text": [
      "1.Ingresa una lista de 5 numeros que indiquen las veces que usas las redes sociales en una semana\n"
     ]
    },
    {
     "name": "stdin",
     "output_type": "stream",
     "text": [
      "Ingresa las 5 cantidades:  2,3,4,5,6\n"
     ]
    },
    {
     "name": "stdout",
     "output_type": "stream",
     "text": [
      "<class 'tuple'>\n",
      "2.Ingresa los primeros 5 numeros de tu numero telefonico\n"
     ]
    },
    {
     "name": "stdin",
     "output_type": "stream",
     "text": [
      "Ingresa 5 numeros:  1,2,3,4,5\n"
     ]
    },
    {
     "name": "stdout",
     "output_type": "stream",
     "text": [
      "<class 'tuple'>\n",
      "3.Ingresa 5 edades de tus familiares\n"
     ]
    },
    {
     "name": "stdin",
     "output_type": "stream",
     "text": [
      "Ingresa las 5 edades:  12,21,34,17,87\n"
     ]
    },
    {
     "name": "stdout",
     "output_type": "stream",
     "text": [
      "<class 'dict'>\n",
      " Elige una opcion anterior (1/2/3) y selecciona una operacion a realizar con los valores\n",
      "4.suma\n",
      "5.resta\n",
      "6.multiplicacion\n",
      "7.division\n",
      "8.potencia\n"
     ]
    },
    {
     "name": "stdin",
     "output_type": "stream",
     "text": [
      "Ingresa una opcion (4/5/6/7/8) :  4\n",
      "Ingresa el primer numero, da click ENTER:  2\n",
      "Ingresa el segundo numero, da click ENTER:  3\n",
      "Ingresa el tercer numero, da click ENTER:  4\n",
      "Ingresa el cuarto numero, da click ENTER:  5\n",
      "Ingresa el quinto numero, da click ENTER:  6\n"
     ]
    },
    {
     "name": "stdout",
     "output_type": "stream",
     "text": [
      "<class 'tuple'>\n",
      "<class 'tuple'>\n",
      "<class 'dict'>\n",
      "20.0\n"
     ]
    }
   ],
   "source": [
    "def suma (num1, num2, num3, num4, num5):\n",
    "    return num1 + num2 + num3 + num4 + num5 \n",
    "\n",
    "def resta (num1, num2, num3, num4, num5):\n",
    "    return num1 - num2 - num3 - num4 - num5\n",
    "\n",
    "def multiplicacion (num1, num2, num3, num4, num5):\n",
    "    return num1 * num2 * num3 * num4 * num5\n",
    "\n",
    "def division (num1, num2, num3, num4, num5):\n",
    "    return num1 / num2 / num3 / num4 / num5\n",
    "\n",
    "def potencia (num1, num2, num3, num4, num5):\n",
    "    return num1 ** num2 ** num3 ** num4 ** num5\n",
    "\n",
    "def my_list ():\n",
    "    return (num1, num2, num3,num4, num5)\n",
    "    \n",
    "\n",
    "def my_set ():\n",
    "    return (num1, num2, num3, num4, num5)\n",
    "\n",
    "def my_dictionary ():\n",
    "    return { \"a\": num1, \"b\": num2, \"c\": num3, \"d\": num4, \"e\": num5}\n",
    "    \n",
    "\n",
    "#Se muestra el menu\n",
    "print (\"Elige una opcion\")\n",
    "\n",
    "#Se solicita el ingreso de la opcion\n",
    "opcion = input (\"Completa la informacion que se indica en la web presiona (1/2/3) para completar : \")\n",
    "\n",
    "print (\"1.Ingresa una lista de 5 numeros que indiquen las veces que usas las redes sociales en una semana\")\n",
    "my_list= input ( \"Ingresa las 5 cantidades: \")\n",
    "my_list= ()\n",
    "print(type(my_list))\n",
    "\n",
    "print (\"2.Ingresa los primeros 5 numeros de tu numero telefonico\")\n",
    "my_set= input(\"Ingresa 5 numeros: \")\n",
    "my_set = ()\n",
    "print (type (my_set))\n",
    "\n",
    "print (\"3.Ingresa 5 edades de tus familiares\")\n",
    "my_dictionary = input (\"Ingresa las 5 edades: \")\n",
    "my_dictionary = { \"a\": 1, \"b\": 2, \"c\": 3, \"d\": 4, \"e\":5}\n",
    "print (type (my_dictionary))\n",
    "\n",
    "\n",
    "# se muestra el menu\n",
    "\n",
    "print ( \" Elige una opcion anterior (1/2/3) y selecciona una operacion a realizar con los valores\") \n",
    "\n",
    "print (\"4.suma\")\n",
    "print(\"5.resta\")\n",
    "print(\"6.multiplicacion\")\n",
    "print(\"7.division\")\n",
    "print(\"8.potencia\")\n",
    "\n",
    "#Solicitar al usuario que ingrese la opcion\n",
    "\n",
    "opcion = input ( \"Ingresa una opcion (4/5/6/7/8) : \")\n",
    "\n",
    "#Solicitar que ingrese los numeros\n",
    "num1= float (input ( \"Ingresa el primer numero, da click ENTER: \"))\n",
    "num2= float (input ( \"Ingresa el segundo numero, da click ENTER: \"))\n",
    "num3= float (input ( \"Ingresa el tercer numero, da click ENTER: \"))\n",
    "num4= float (input ( \"Ingresa el cuarto numero, da click ENTER: \"))\n",
    "num5= float (input ( \"Ingresa el quinto numero, da click ENTER: \"))\n",
    "print (type (my_list))\n",
    "print (type (my_set))\n",
    "print (type (my_dictionary))\n",
    "\n",
    "\n",
    "\n",
    "#El sistema realiza la operacion seleccionada\n",
    "if opcion == '1':\n",
    "    my_list ()\n",
    "    print(type(my_list))\n",
    "if opcion == '2':\n",
    "    my_set ()\n",
    "    print(type (my_set))\n",
    "if opcion == '3':\n",
    "   print (type(my_dictionary))\n",
    "if opcion == '4':\n",
    "    print(num1 + num2 + num3 + num4 + num5) \n",
    "\n",
    "if opcion == '5':\n",
    "    print(num1 - num2 - num3 - num4 - num5)\n",
    "\n",
    "if opcion == '6':\n",
    "    print(num1 * num2 * num3 * num4 * num5)\n",
    "\n",
    "if opcion == '7':\n",
    "    print(num1 / num2 / num3 / num4 / num5)\n",
    "\n",
    "if opcion == '8':\n",
    "    print(num1**num2**num3**num4**num5)\n"
   ]
  },
  {
   "cell_type": "code",
   "execution_count": null,
   "id": "5450a8ee-5739-4f88-9bce-400543090324",
   "metadata": {},
   "outputs": [],
   "source": []
  }
 ],
 "metadata": {
  "kernelspec": {
   "display_name": "Python 3 (ipykernel)",
   "language": "python",
   "name": "python3"
  },
  "language_info": {
   "codemirror_mode": {
    "name": "ipython",
    "version": 3
   },
   "file_extension": ".py",
   "mimetype": "text/x-python",
   "name": "python",
   "nbconvert_exporter": "python",
   "pygments_lexer": "ipython3",
   "version": "3.12.5"
  }
 },
 "nbformat": 4,
 "nbformat_minor": 5
}
